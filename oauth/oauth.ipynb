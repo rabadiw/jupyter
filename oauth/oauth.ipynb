{
 "cells": [
  {
   "cell_type": "code",
   "execution_count": null,
   "metadata": {},
   "outputs": [],
   "source": [
    "# Change directory to VSCode workspace root so that relative path loads work correctly. Turn this addition off with the DataScience.changeDirOnImportExport setting\n",
    "# ms-python.python added\n",
    "import os\n",
    "try:\n",
    "\tos.chdir(os.path.join(os.getcwd(), '.'))\n",
    "\tprint(os.getcwd())\n",
    "except:\n",
    "\tpass\n"
   ]
  },
  {
   "cell_type": "markdown",
   "metadata": {},
   "source": [
    "## Setup\n",
    " The script looks up values from an oauth-test.json file in the root directory along with this script.\n",
    "```json\n",
    " {\n",
    "    \"auth_domain\": \"https://auth.domain\",\n",
    "    \"client_id\": \"client_id\",\n",
    "    \"client_secret\": \"client_secret\"\n",
    " }\n",
    " ```"
   ]
  },
  {
   "cell_type": "code",
   "execution_count": null,
   "metadata": {},
   "outputs": [],
   "source": [
    "import os\n",
    "jsonPath =  os.path.join(os.getcwd(), \"oauth-test.json\")\n",
    "print(jsonPath)"
   ]
  },
  {
   "cell_type": "code",
   "execution_count": null,
   "metadata": {},
   "outputs": [],
   "source": [
    "import json\n",
    "data = {}\n",
    "data['auth_domain']=\"auth.domain\"\n",
    "data['client_id']=\"client_id\"\n",
    "data['client_secret']=\"client_secret\"\n",
    "\n",
    "if not os.path.exists(jsonPath):\n",
    "  with open(jsonPath, 'w') as outfile:\n",
    "    json.dump(data, outfile)\n"
   ]
  },
  {
   "cell_type": "code",
   "execution_count": null,
   "metadata": {},
   "outputs": [],
   "source": [
    "# load oauth data\n",
    "with open(jsonPath, mode='rb') as json_file:\n",
    "    oauthData = json.loads(json_file.read())\n"
   ]
  },
  {
   "cell_type": "code",
   "execution_count": null,
   "metadata": {},
   "outputs": [],
   "source": [
    "from requests_oauthlib import OAuth2Session\n",
    "from oauthlib.oauth2 import BackendApplicationClient\n"
   ]
  },
  {
   "cell_type": "code",
   "execution_count": null,
   "metadata": {},
   "outputs": [],
   "source": [
    "auth_domain = oauthData[\"auth_domain\"]\n",
    "client_id = oauthData[\"client_id\"]\n",
    "client_secret = oauthData[\"client_secret\"]\n",
    "token_url = auth_domain + \"/oauth/token\"\n",
    "\n",
    "# If your provider requires that you pass auth credentials in a Basic Auth header, you can do this instead:\n",
    "# client = Client(client_id=client_id)\n",
    "client = BackendApplicationClient(client_id=client_id)\n",
    "oauth = OAuth2Session(client=client)\n",
    "token = oauth.fetch_token(token_url=token_url,\n",
    "                          client_id=client_id,\n",
    "                          client_secret=client_secret)\n",
    "\n",
    "json.dumps(token, indent=2)"
   ]
  },
  {
   "cell_type": "code",
   "execution_count": null,
   "metadata": {},
   "outputs": [],
   "source": []
  }
 ],
 "metadata": {
  "file_extension": ".py",
  "kernelspec": {
   "display_name": "Python 3",
   "language": "python",
   "name": "python3"
  },
  "language_info": {
   "codemirror_mode": {
    "name": "ipython",
    "version": 3
   },
   "file_extension": ".py",
   "mimetype": "text/x-python",
   "name": "python",
   "nbconvert_exporter": "python",
   "pygments_lexer": "ipython3",
   "version": "3.7.0"
  },
  "mimetype": "text/x-python",
  "name": "python",
  "npconvert_exporter": "python",
  "pygments_lexer": "ipython3",
  "version": 3
 },
 "nbformat": 4,
 "nbformat_minor": 4
}
